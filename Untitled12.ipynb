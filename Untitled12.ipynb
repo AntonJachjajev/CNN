{
  "nbformat": 4,
  "nbformat_minor": 0,
  "metadata": {
    "colab": {
      "name": "Untitled12.ipynb",
      "provenance": [],
      "authorship_tag": "ABX9TyMVsynq00CYnsp7nv+8KWzw",
      "include_colab_link": true
    },
    "kernelspec": {
      "name": "python3",
      "display_name": "Python 3"
    },
    "language_info": {
      "name": "python"
    }
  },
  "cells": [
    {
      "cell_type": "markdown",
      "metadata": {
        "id": "view-in-github",
        "colab_type": "text"
      },
      "source": [
        "<a href=\"https://colab.research.google.com/github/AntonJachjajev/CNN/blob/AntonCNN/Untitled12.ipynb\" target=\"_parent\"><img src=\"https://colab.research.google.com/assets/colab-badge.svg\" alt=\"Open In Colab\"/></a>"
      ]
    },
    {
      "cell_type": "code",
      "metadata": {
        "colab": {
          "base_uri": "https://localhost:8080/"
        },
        "id": "pyrt6-QDwPyn",
        "outputId": "d9223721-aa55-4526-f019-06d1886ee753"
      },
      "source": [
        "import numpy as np\n",
        "import matplotlib as plt\n",
        "import pandas as pd\n",
        "import scipy.stats as stats\n",
        "import matplotlib.pyplot as plt\n",
        "\n",
        "from sklearn.model_selection import train_test_split, cross_val_score\n",
        "from sklearn.linear_model import LinearRegression\n",
        "from sklearn.metrics import mean_squared_error, r2_score\n",
        "from sklearn.datasets import load_diabetes\n",
        "\n",
        "diabetes = load_diabetes()\n",
        "\n",
        "dia = pd.DataFrame(diabetes.data)\n",
        "\n",
        "dia.columns = diabetes.feature_names\n",
        "dia['progress'] = diabetes.target\n",
        "\n",
        "corr_matrix = dia.corr()\n",
        "\n",
        "x = dia.drop('progress', axis = 1)\n",
        "y = dia['progress']\n",
        "\n",
        "x_trian, x_test, y_train, y_test = train_test_split(x, y, test_size = 0.33)\n",
        "\n",
        "regr = LinearRegression()\n",
        "\n",
        "regr.fit(x_trian, y_train)\n",
        "\n",
        "y_pred = regr.predict(x_test)\n",
        "\n",
        "# The mean squared error\n",
        "print('Mean squared error: %.2f'\n",
        "      % mean_squared_error(y_test, y_pred))\n",
        "# The coefficient of determination: 1 is perfect prediction\n",
        "print('Coefficient of determination: %.2f'\n",
        "      % r2_score(y_test, y_pred))\n",
        "print('Accuracy:', regr.score(x_test, y_test))\n",
        "\n",
        "scores = cross_val_score(regr, x_test, y_test, cv = 5)\n",
        "print('Cross validation scores:', scores)\n",
        "\n",
        "print('Average Scores: ', scores.mean())\n",
        "print('St Dev: ', scores.std())"
      ],
      "execution_count": 98,
      "outputs": [
        {
          "output_type": "stream",
          "text": [
            "Mean squared error: 3117.55\n",
            "Coefficient of determination: 0.44\n",
            "Accuracy: 0.4370571655615694\n",
            "Cross validation scores: [0.46406017 0.18930396 0.57914936 0.01594539 0.53038039]\n",
            "Average Scores:  0.3557678534022892\n",
            "St Dev:  0.2169357475249734\n"
          ],
          "name": "stdout"
        }
      ]
    },
    {
      "cell_type": "code",
      "metadata": {
        "colab": {
          "base_uri": "https://localhost:8080/"
        },
        "id": "vbj6N6w31W7w",
        "outputId": "9e715b19-1879-442b-c6d2-749a451619a2"
      },
      "source": [
        "from sklearn.neighbors import KNeighborsRegressor\n",
        "from sklearn.neighbors import KNeighborsClassifier\n",
        "\n",
        "x_train, x_test, y_train, y_test = train_test_split(x, y, test_size = 0.33, random_state = 32)\n",
        "\n",
        "y_df = pd.DataFrame(y)\n",
        "\n",
        "y_df.loc[(y_df['progress'] < 100), \"cats\"] = \"low\"\n",
        "y_df.loc[(y_df['progress'] >= 100) & (y_df['progress'] < 184), \"cats\"] = \"medium\"\n",
        "y_df.loc[(y_df['progress'] >= 184), \"cats\"] = \"high\"\n",
        "\n",
        "model = KNeighborsRegressor(n_neighbors=10)\n",
        "model.fit(x_train, y_train)\n",
        "\n",
        "score = model.score(x_test, y_test)\n",
        "\n",
        "print('Cont score', score)\n",
        "\n",
        "x_train, x_test, y_train, y_test = train_test_split(x, y_df['cats'], test_size = 0.33, random_state = 32)\n",
        "\n",
        "model = KNeighborsClassifier(n_neighbors=10)\n",
        "model.fit(x_train, y_train)\n",
        "\n",
        "score = model.score(x_test, y_test)\n",
        "\n",
        "print('Cont score', score)\n"
      ],
      "execution_count": 99,
      "outputs": [
        {
          "output_type": "stream",
          "text": [
            "Cont score 0.3865500597075059\n",
            "Cont score 0.5068493150684932\n"
          ],
          "name": "stdout"
        }
      ]
    },
    {
      "cell_type": "code",
      "metadata": {
        "id": "XadC9Ujb8gfn"
      },
      "source": [
        ""
      ],
      "execution_count": null,
      "outputs": []
    }
  ]
}