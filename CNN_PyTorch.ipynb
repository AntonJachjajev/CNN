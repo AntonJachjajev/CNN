{
  "nbformat": 4,
  "nbformat_minor": 0,
  "metadata": {
    "colab": {
      "name": "CNN_PyTorch.ipynb",
      "provenance": [],
      "authorship_tag": "ABX9TyO+8sf/5tEam+MAoehJ19+A",
      "include_colab_link": true
    },
    "kernelspec": {
      "name": "python3",
      "display_name": "Python 3"
    }
  },
  "cells": [
    {
      "cell_type": "markdown",
      "metadata": {
        "id": "view-in-github",
        "colab_type": "text"
      },
      "source": [
        "<a href=\"https://colab.research.google.com/github/skmisht/CNN/blob/main/CNN_PyTorch.ipynb\" target=\"_parent\"><img src=\"https://colab.research.google.com/assets/colab-badge.svg\" alt=\"Open In Colab\"/></a>"
      ]
    },
    {
      "cell_type": "markdown",
      "metadata": {
        "id": "bh7Wik-3D0R6"
      },
      "source": [
        "# Melanoma detection - PyTorch "
      ]
    },
    {
      "cell_type": "code",
      "metadata": {
        "id": "UPZxs6Q0EC91"
      },
      "source": [
        "import os\r\n",
        "import csv \r\n",
        "import zipfile\r\n",
        "import torch\r\n",
        "import torchvision\r\n",
        "import numpy as np\r\n",
        "import pandas as pd\r\n",
        "import matplotlib.pyplot as plt\r\n",
        "import matplotlib.image as mpimg\r\n",
        "from google.colab import files\r\n",
        "from torchvision.transforms import transforms"
      ],
      "execution_count": 2,
      "outputs": []
    },
    {
      "cell_type": "code",
      "metadata": {
        "id": "e3u5NvtsPyTc"
      },
      "source": [
        "# "
      ],
      "execution_count": null,
      "outputs": []
    },
    {
      "cell_type": "code",
      "metadata": {
        "id": "UEuVG0uGPyQu"
      },
      "source": [
        ""
      ],
      "execution_count": null,
      "outputs": []
    }
  ]
}