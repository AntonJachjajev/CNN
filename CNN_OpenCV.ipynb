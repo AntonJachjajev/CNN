{
  "nbformat": 4,
  "nbformat_minor": 0,
  "metadata": {
    "colab": {
      "name": "CNN_OpenCV.ipynb",
      "provenance": [],
      "authorship_tag": "ABX9TyMA54lrUSYu3Cz7+eLHwz5N",
      "include_colab_link": true
    },
    "kernelspec": {
      "name": "python3",
      "display_name": "Python 3"
    }
  },
  "cells": [
    {
      "cell_type": "markdown",
      "metadata": {
        "id": "view-in-github",
        "colab_type": "text"
      },
      "source": [
        "<a href=\"https://colab.research.google.com/github/skmisht/CNN/blob/main/CNN_OpenCV.ipynb\" target=\"_parent\"><img src=\"https://colab.research.google.com/assets/colab-badge.svg\" alt=\"Open In Colab\"/></a>"
      ]
    },
    {
      "cell_type": "markdown",
      "metadata": {
        "id": "BxyY4d79HQpg"
      },
      "source": [
        "# Melanoma detection using - OpenCV"
      ]
    },
    {
      "cell_type": "code",
      "metadata": {
        "id": "dWWBBZGIHWTG"
      },
      "source": [
        ""
      ],
      "execution_count": null,
      "outputs": []
    }
  ]
}