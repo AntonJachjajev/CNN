{
  "nbformat": 4,
  "nbformat_minor": 0,
  "metadata": {
    "colab": {
      "name": "CNN_TensorFLow.ipynb",
      "provenance": [],
      "include_colab_link": true
    },
    "kernelspec": {
      "name": "python3",
      "display_name": "Python 3"
    }
  },
  "cells": [
    {
      "cell_type": "markdown",
      "metadata": {
        "id": "view-in-github",
        "colab_type": "text"
      },
      "source": [
        "<a href=\"https://colab.research.google.com/github/skmisht/CNN/blob/main/CNN_TensorFLow.ipynb\" target=\"_parent\"><img src=\"https://colab.research.google.com/assets/colab-badge.svg\" alt=\"Open In Colab\"/></a>"
      ]
    },
    {
      "cell_type": "markdown",
      "metadata": {
        "id": "BW8IzQyEG5dE"
      },
      "source": [
        "# Melanoma detection using TensorFlow"
      ]
    },
    {
      "cell_type": "code",
      "metadata": {
        "id": "aB0Vt_2HG-jh"
      },
      "source": [
        "!apt install -y caffe-cuda\r\n",
        "import numpy as np\r\n",
        "import matplotlib.pyplot as plt\r\n",
        "from PIL import Image\r\n",
        "import caffe\r\n",
        "caffe.set_mode_cpu()\r\n",
        "net = caffe.Net('/content/caffe/conv.prototxt', caffe.TEST)\r\n",
        "[(k, v.data.shape) for k, v in net.blobs.items()]\r\n",
        "[(k, v[0].data.shape, v[1].data.shape) for k, v in net.params.items()]\r\n",
        "print(net.blobs['conv'].data.shape)\r\n",
        "im = np.array(Image.open('/content/caffe/Examples/cat_gray.jpg'))\r\n",
        "im_input = im[np.newaxis, np.newaxis, :, :]\r\n",
        "net.blobs['data'].reshape(*im_input.shape)\r\n",
        "net.blobs['data'].data[...] = im_input\r\n",
        "net.forward()\r\n",
        "net.save('/content/caffe/mymodel.caffemodel')"
      ],
      "execution_count": null,
      "outputs": []
    }
  ]
}