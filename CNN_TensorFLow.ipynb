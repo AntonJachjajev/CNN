{
  "nbformat": 4,
  "nbformat_minor": 0,
  "metadata": {
    "colab": {
      "name": "CNN_TensorFLow.ipynb",
      "provenance": [],
      "authorship_tag": "ABX9TyO0lvuyjTbqUcggwLICPOS7",
      "include_colab_link": true
    },
    "kernelspec": {
      "name": "python3",
      "display_name": "Python 3"
    }
  },
  "cells": [
    {
      "cell_type": "markdown",
      "metadata": {
        "id": "view-in-github",
        "colab_type": "text"
      },
      "source": [
        "<a href=\"https://colab.research.google.com/github/skmisht/CNN/blob/main/CNN_TensorFLow.ipynb\" target=\"_parent\"><img src=\"https://colab.research.google.com/assets/colab-badge.svg\" alt=\"Open In Colab\"/></a>"
      ]
    },
    {
      "cell_type": "markdown",
      "metadata": {
        "id": "BW8IzQyEG5dE"
      },
      "source": [
        "# Melanoma detection using TensorFlow"
      ]
    },
    {
      "cell_type": "code",
      "metadata": {
        "id": "aB0Vt_2HG-jh"
      },
      "source": [
        ""
      ],
      "execution_count": null,
      "outputs": []
    }
  ]
}