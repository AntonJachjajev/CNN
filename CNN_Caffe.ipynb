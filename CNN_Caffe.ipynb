{
  "nbformat": 4,
  "nbformat_minor": 0,
  "metadata": {
    "colab": {
      "name": "CNN_Caffe.ipynb",
      "provenance": [],
      "authorship_tag": "ABX9TyMfd32MTlnZtIFasGnJ9R1R",
      "include_colab_link": true
    },
    "kernelspec": {
      "name": "python3",
      "display_name": "Python 3"
    }
  },
  "cells": [
    {
      "cell_type": "markdown",
      "metadata": {
        "id": "view-in-github",
        "colab_type": "text"
      },
      "source": [
        "<a href=\"https://colab.research.google.com/github/AntonJachjajev/CNN/blob/AntonCNN/CNN_Caffe.ipynb\" target=\"_parent\"><img src=\"https://colab.research.google.com/assets/colab-badge.svg\" alt=\"Open In Colab\"/></a>"
      ]
    },
    {
      "cell_type": "markdown",
      "metadata": {
        "id": "1JjE0Vxgu2Ah"
      },
      "source": [
        "\r\n",
        "# Melanoma detection using - Caffe"
      ]
    },
    {
      "cell_type": "code",
      "metadata": {
        "id": "0uwaX3Aiu98V"
      },
      "source": [
        ""
      ],
      "execution_count": null,
      "outputs": []
    }
  ]
}